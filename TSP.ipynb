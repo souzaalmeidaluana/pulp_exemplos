{
 "cells": [
  {
   "cell_type": "code",
   "execution_count": 1,
   "id": "b211346d",
   "metadata": {},
   "outputs": [],
   "source": [
    "#Bibliotecas\n",
    "from pulp import *\n",
    "import numpy as np\n",
    "import networkx as nx\n",
    "import matplotlib.pyplot as plt"
   ]
  },
  {
   "cell_type": "code",
   "execution_count": 2,
   "id": "f8e7a19e",
   "metadata": {},
   "outputs": [
    {
     "name": "stdout",
     "output_type": "stream",
     "text": [
      "Status do problema: Optimal\n",
      "u_0 = 5.0\n",
      "u_1 = 2.0\n",
      "u_2 = 4.0\n",
      "u_3 = 1.0\n",
      "u_4 = 3.0\n",
      "x_(0,_3) = 1.0\n",
      "x_(1,_4) = 1.0\n",
      "x_(2,_0) = 1.0\n",
      "x_(3,_1) = 1.0\n",
      "x_(4,_2) = 1.0\n",
      "Custo total = $76.0\n"
     ]
    }
   ],
   "source": [
    "#Dados de entrada\n",
    "\n",
    "# CSV Excel\n",
    "custo = np.genfromtxt(\"amostra_tsp.csv\", delimiter = \",\")\n",
    "\n",
    "#Parametros\n",
    "n = len(custo)\n",
    "arcos = [(i,j) for i in range(n) for j in range(n) if custo[i,j] != 999]\n",
    "\n",
    "#Inicializar o LP\n",
    "tsp = LpProblem(\"CaixeiroViajante\", LpMinimize)\n",
    "\n",
    "#Variaveis de decisao\n",
    "x = LpVariable.dicts(\"x\", arcos, cat = \"Binary\")\n",
    "u = LpVariable.dicts(\"u\", [i for i in range(n)], lowBound = 1, \n",
    "                     upBound = n, cat = \"Continuous\")\n",
    "\n",
    "#Funcao objetivo\n",
    "tsp += lpSum([custo[i,j] * x[i,j] for (i,j) in arcos])\n",
    "\n",
    "#Restricao 1\n",
    "for j in range(n):\n",
    "    tsp += lpSum([x[i,j] for (i,m) in arcos if m==j]) == 1\n",
    "    \n",
    "#Restricao 2\n",
    "for i in range(n):\n",
    "    tsp += lpSum([x[i,j] for (m,j) in arcos if m == i]) == 1\n",
    "    \n",
    "#Restricao 3 - Subtour elimination\n",
    "for (i,j) in arcos:\n",
    "    if i > 0 and i != j:\n",
    "        tsp += u[i] - u[j] + n*x[i,j] <= n-1\n",
    "        \n",
    "#Resolvendo o modelo\n",
    "# solver_list = listSolvers(onlyAvailable=True)\n",
    "# print(solver_list)\n",
    "solver = getSolver('GUROBI_CMD')\n",
    "resolver_modelo = tsp.solve(solver)\n",
    "print(f\"Status do problema: {LpStatus[resolver_modelo]}\")\n",
    "\n",
    "#Display variaveis\n",
    "for var in tsp.variables():\n",
    "    if var.varValue > 0:\n",
    "        print(f\"{var.name} = {var.varValue}\")\n",
    "\n",
    "#Display funcao objetivo\n",
    "print(f\"Custo total = ${value(tsp.objective)}\")"
   ]
  },
  {
   "cell_type": "code",
   "execution_count": 16,
   "id": "60082f81",
   "metadata": {},
   "outputs": [
    {
     "name": "stdout",
     "output_type": "stream",
     "text": [
      "[(0, 3), (3, 0), (1, 4), (4, 1), (2, 0), (0, 2), (3, 1), (1, 3), (4, 2), (2, 4)]\n"
     ]
    }
   ],
   "source": [
    "#Lista com os arcos atravessados pelo caixeiro\n",
    "arcos_caminho = []\n",
    "\n",
    "for var in tsp.variables():\n",
    "    if var.name[0] == \"x\":\n",
    "        if var.varValue > 0:\n",
    "            #Encontrando os indices para dividir a string\n",
    "            open_parenthesis = var.name.find(\"(\")\n",
    "            close_parenthesis = var.name.find(\")\")\n",
    "            comma = var.name.find(\",\")\n",
    "            second_underline = var.name.find(\"_\", comma)\n",
    "            \n",
    "            #Determinar (i,j)\n",
    "            i = int(var.name[open_parenthesis+1: comma])\n",
    "            j = int(var.name[second_underline+1: close_parenthesis])\n",
    "            \n",
    "            arcos_caminho.append((i,j))\n",
    "            arcos_caminho.append((j,i)) #Simetrico\n",
    "            \n",
    "print(arcos_caminho)"
   ]
  },
  {
   "cell_type": "code",
   "execution_count": 17,
   "id": "180f6cf5",
   "metadata": {},
   "outputs": [
    {
     "data": {
      "image/png": "[encoded data removed]",
      "text/plain": [
       "<Figure size 432x288 with 1 Axes>"
      ]
     },
     "metadata": {},
     "output_type": "display_data"
    }
   ],
   "source": [
    "#Criar o grafo\n",
    "G = nx.Graph()\n",
    "\n",
    "#Adicionando todos os arcos\n",
    "G.add_edges_from(arcos)\n",
    "\n",
    "#Posicao dos nos\n",
    "coordenadas = [[2,3], [3, 2], [3,1], [1,1], [1,2]]\n",
    "\n",
    "#Identificando a cor dos arcos\n",
    "cores = []\n",
    "for arco in arcos:\n",
    "    if arco in arcos_caminho:\n",
    "        cores.append(\"red\")\n",
    "    else:\n",
    "        cores.append(\"black\")\n",
    "\n",
    "#Plotar o grafo\n",
    "nx.draw(G, pos = coordenadas, with_labels = True, node_color = \"white\", \n",
    "        edgecolors = \"black\", edgelist = arcos, edge_color = cores)\n"
   ]
  },
  {
   "cell_type": "code",
   "execution_count": null,
   "id": "b6b5a1f3",
   "metadata": {},
   "outputs": [],
   "source": []
  }
 ],
 "metadata": {
  "kernelspec": {
   "display_name": "Python 3 (ipykernel)",
   "language": "python",
   "name": "python3"
  },
  "language_info": {
   "codemirror_mode": {
    "name": "ipython",
    "version": 3
   },
   "file_extension": ".py",
   "mimetype": "text/x-python",
   "name": "python",
   "nbconvert_exporter": "python",
   "pygments_lexer": "ipython3",
   "version": "3.9.7"
  }
 },
 "nbformat": 4,
 "nbformat_minor": 5
}
